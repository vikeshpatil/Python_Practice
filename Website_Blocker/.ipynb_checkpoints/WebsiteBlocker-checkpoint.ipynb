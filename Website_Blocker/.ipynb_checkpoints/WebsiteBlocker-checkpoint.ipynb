{
 "cells": [
  {
   "cell_type": "markdown",
   "metadata": {},
   "source": [
    "It is the python script which blocks from accessing specified websites during a specific period. This is done by adding the IP to be forward after trying to access the website followed by the url of website to block  in the host file. A process runs in backgroud and checks the time every 5 minutes(or specified duration) and adds/removes the IP and url depeding on the time set. \n",
    "\n",
    "This host file is located at:<br>\n",
    "<b>Mac and Linux</b>: /etc/hosts<br>\n",
    "<b>Windows</b>: C:\\Windows\\System32\\drivers\\etc\\\n"
   ]
  },
  {
   "cell_type": "code",
   "execution_count": 11,
   "metadata": {},
   "outputs": [],
   "source": [
    "import time\n",
    "from datetime import datetime as dt\n",
    "\n",
    "host_path = \"/etc/hosts\"   #host file location\n",
    "host_temp = \"hosts\"\n",
    "redirect = \"127.0.0.1\"   #redirect to the url after trying to access the blocked site\n",
    "websites = [\"www.facebook.com\", \"facebook.com\"]  #Websites to block\n"
   ]
  },
  {
   "cell_type": "code",
   "execution_count": 12,
   "metadata": {},
   "outputs": [
    {
     "data": {
      "text/plain": [
       "datetime.datetime(2020, 2, 21, 16, 17, 6, 792348)"
      ]
     },
     "execution_count": 12,
     "metadata": {},
     "output_type": "execute_result"
    }
   ],
   "source": [
    "dt.now() #gives in the form (year, month, day, hours, minutes, seconds, microseconds)"
   ]
  },
  {
   "cell_type": "code",
   "execution_count": 13,
   "metadata": {},
   "outputs": [
    {
     "data": {
      "text/plain": [
       "2020"
      ]
     },
     "execution_count": 13,
     "metadata": {},
     "output_type": "execute_result"
    }
   ],
   "source": [
    "dt.now().year"
   ]
  },
  {
   "cell_type": "code",
   "execution_count": 10,
   "metadata": {},
   "outputs": [
    {
     "name": "stdout",
     "output_type": "stream",
     "text": [
      "Working Hours\n"
     ]
    },
    {
     "ename": "KeyboardInterrupt",
     "evalue": "",
     "output_type": "error",
     "traceback": [
      "\u001b[0;31m---------------------------------------------------------------------------\u001b[0m",
      "\u001b[0;31mKeyboardInterrupt\u001b[0m                         Traceback (most recent call last)",
      "\u001b[0;32m<ipython-input-10-54e2264f2658>\u001b[0m in \u001b[0;36m<module>\u001b[0;34m\u001b[0m\n\u001b[1;32m      6\u001b[0m     \u001b[0;32melse\u001b[0m\u001b[0;34m:\u001b[0m\u001b[0;34m\u001b[0m\u001b[0;34m\u001b[0m\u001b[0m\n\u001b[1;32m      7\u001b[0m         \u001b[0mprint\u001b[0m\u001b[0;34m(\u001b[0m\u001b[0;34m\"Fun hours\"\u001b[0m\u001b[0;34m)\u001b[0m\u001b[0;34m\u001b[0m\u001b[0;34m\u001b[0m\u001b[0m\n\u001b[0;32m----> 8\u001b[0;31m     \u001b[0mtime\u001b[0m\u001b[0;34m.\u001b[0m\u001b[0msleep\u001b[0m\u001b[0;34m(\u001b[0m\u001b[0;36m5\u001b[0m\u001b[0;34m)\u001b[0m\u001b[0;34m\u001b[0m\u001b[0;34m\u001b[0m\u001b[0m\n\u001b[0m",
      "\u001b[0;31mKeyboardInterrupt\u001b[0m: "
     ]
    }
   ],
   "source": [
    "while True:\n",
    "    #Check if the current time is greater than 9 a.m. and  less than 5 p.m. \n",
    "    if dt(dt.now().year, dt.now().month, dt.now().day, 8) < dt.now() < dt(dt.now().year, dt.now().month, dt.now().day, 17): \n",
    "    \n",
    "        print(\"Working Hours\")\n",
    "    else:\n",
    "        print(\"Fun hours\")\n",
    "    time.sleep(5)"
   ]
  },
  {
   "cell_type": "code",
   "execution_count": 18,
   "metadata": {},
   "outputs": [
    {
     "ename": "KeyboardInterrupt",
     "evalue": "",
     "output_type": "error",
     "traceback": [
      "\u001b[0;31m---------------------------------------------------------------------------\u001b[0m",
      "\u001b[0;31mKeyboardInterrupt\u001b[0m                         Traceback (most recent call last)",
      "\u001b[0;32m<ipython-input-18-864f5dcde508>\u001b[0m in \u001b[0;36m<module>\u001b[0;34m\u001b[0m\n\u001b[1;32m     11\u001b[0m     \u001b[0;32melse\u001b[0m\u001b[0;34m:\u001b[0m\u001b[0;34m\u001b[0m\u001b[0;34m\u001b[0m\u001b[0m\n\u001b[1;32m     12\u001b[0m         \u001b[0mprint\u001b[0m\u001b[0;34m(\u001b[0m\u001b[0;34m\"Fun hours\"\u001b[0m\u001b[0;34m)\u001b[0m\u001b[0;34m\u001b[0m\u001b[0;34m\u001b[0m\u001b[0m\n\u001b[0;32m---> 13\u001b[0;31m     \u001b[0mtime\u001b[0m\u001b[0;34m.\u001b[0m\u001b[0msleep\u001b[0m\u001b[0;34m(\u001b[0m\u001b[0;36m5\u001b[0m\u001b[0;34m)\u001b[0m\u001b[0;34m\u001b[0m\u001b[0;34m\u001b[0m\u001b[0m\n\u001b[0m",
      "\u001b[0;31mKeyboardInterrupt\u001b[0m: "
     ]
    }
   ],
   "source": [
    "while True:\n",
    "    #Check if the current time is greater than 9 a.m. and  less than 5 p.m. \n",
    "    if dt(dt.now().year, dt.now().month, dt.now().day, 8) < dt.now() < dt(dt.now().year, dt.now().month, dt.now().day, 17): \n",
    "        #check if the ip and websites are in the hosts file. if not then add them\n",
    "        with open(host_temp, \"r+\") as file:\n",
    "            content = file.read()   #read host file\n",
    "            for website in websites:  #loop through websites list\n",
    "                if website not in content:  #if the current website is not present in host file\n",
    "                    file.write(redirect + \" \" + website + \"\\n\")  #enter the redirect IP and website\n",
    "                    \n",
    "    else:\n",
    "        print(\"Fun hours\")\n",
    "    time.sleep(5)"
   ]
  },
  {
   "cell_type": "code",
   "execution_count": 25,
   "metadata": {},
   "outputs": [
    {
     "ename": "KeyboardInterrupt",
     "evalue": "",
     "output_type": "error",
     "traceback": [
      "\u001b[0;31m---------------------------------------------------------------------------\u001b[0m",
      "\u001b[0;31mKeyboardInterrupt\u001b[0m                         Traceback (most recent call last)",
      "\u001b[0;32m<ipython-input-25-a7e98030838f>\u001b[0m in \u001b[0;36m<module>\u001b[0;34m\u001b[0m\n\u001b[1;32m     20\u001b[0m                                                                      \u001b[0;31m#websites to block. truncate() method removes all the contains from the cursor position\u001b[0m\u001b[0;34m\u001b[0m\u001b[0;34m\u001b[0m\u001b[0;34m\u001b[0m\u001b[0m\n\u001b[1;32m     21\u001b[0m                                                                      \u001b[0;31m#that means websites to be blocked are removed\u001b[0m\u001b[0;34m\u001b[0m\u001b[0;34m\u001b[0m\u001b[0;34m\u001b[0m\u001b[0m\n\u001b[0;32m---> 22\u001b[0;31m     \u001b[0mtime\u001b[0m\u001b[0;34m.\u001b[0m\u001b[0msleep\u001b[0m\u001b[0;34m(\u001b[0m\u001b[0;36m5\u001b[0m\u001b[0;34m)\u001b[0m\u001b[0;34m\u001b[0m\u001b[0;34m\u001b[0m\u001b[0m\n\u001b[0m",
      "\u001b[0;31mKeyboardInterrupt\u001b[0m: "
     ]
    }
   ],
   "source": [
    "while True:\n",
    "    #Check if the current time is greater than 9 a.m. and  less than 5 p.m. \n",
    "    if dt(dt.now().year, dt.now().month, dt.now().day, 8) < dt.now() < dt(dt.now().year, dt.now().month, dt.now().day, 16): \n",
    "        #check if the ip and websites are in the hosts file. if not then add them\n",
    "        with open(host_temp, \"r+\") as file:                      #open file for read and append\n",
    "            content = file.read()                                #read host file\n",
    "            for website in websites:                             #loop through websites list\n",
    "                if website not in content:                       #if the current website is not present in host file\n",
    "                    file.write(redirect + \" \" + website + \"\\n\")  #enter the redirect IP and website\n",
    "                    \n",
    "    else:\n",
    "        \n",
    "        with open(host_temp, \"r+\") as file:\n",
    "            content = file.readlines()                           #read the file line by line\n",
    "            file.seek(0)                                         #After reading the file cursor goes at the end of the file and seek() brings at the start of the file\n",
    "            for line in content:                                  \n",
    "                if not any(website in line for website in websites): #checks if the website is in the current line if not\n",
    "                    file.write(line)                                 #then it writes the current line and cursor moves forward\n",
    "            file.truncate()                                          #cursor moves at the point where the lines below it contains the list of \n",
    "                                                                     #websites to block. truncate() method removes all the contains from the cursor position\n",
    "                                                                     #that means websites to be blocked are removed\n",
    "    time.sleep(5)"
   ]
  },
  {
   "cell_type": "code",
   "execution_count": 1,
   "metadata": {},
   "outputs": [
    {
     "ename": "KeyboardInterrupt",
     "evalue": "",
     "output_type": "error",
     "traceback": [
      "\u001b[0;31m---------------------------------------------------------------------------\u001b[0m",
      "\u001b[0;31mKeyboardInterrupt\u001b[0m                         Traceback (most recent call last)",
      "\u001b[0;32m<ipython-input-1-8f6c7144269e>\u001b[0m in \u001b[0;36m<module>\u001b[0;34m\u001b[0m\n\u001b[1;32m     29\u001b[0m                                                                      \u001b[0;31m#websites to block. truncate() method removes all the contains from the cursor position\u001b[0m\u001b[0;34m\u001b[0m\u001b[0;34m\u001b[0m\u001b[0;34m\u001b[0m\u001b[0m\n\u001b[1;32m     30\u001b[0m                                                                      \u001b[0;31m#that means websites to be blocked are removed\u001b[0m\u001b[0;34m\u001b[0m\u001b[0;34m\u001b[0m\u001b[0;34m\u001b[0m\u001b[0m\n\u001b[0;32m---> 31\u001b[0;31m     \u001b[0mtime\u001b[0m\u001b[0;34m.\u001b[0m\u001b[0msleep\u001b[0m\u001b[0;34m(\u001b[0m\u001b[0;36m5\u001b[0m\u001b[0;34m)\u001b[0m\u001b[0;34m\u001b[0m\u001b[0;34m\u001b[0m\u001b[0m\n\u001b[0m",
      "\u001b[0;31mKeyboardInterrupt\u001b[0m: "
     ]
    }
   ],
   "source": [
    "#Complete program\n",
    "import time\n",
    "from datetime import datetime as dt\n",
    "\n",
    "host_path = \"/etc/hosts\"   #host file location\n",
    "host_temp = \"hosts\"\n",
    "redirect = \"127.0.0.1\"   #redirect to the url after trying to access the blocked site\n",
    "websites = [\"www.facebook.com\", \"facebook.com\"]  #Websites to block\n",
    "\n",
    "while True:\n",
    "    #Check if the current time is greater than 9 a.m. and  less than 5 p.m. \n",
    "    if dt(dt.now().year, dt.now().month, dt.now().day, 8) < dt.now() < dt(dt.now().year, dt.now().month, dt.now().day, 16): \n",
    "        #check if the ip and websites are in the hosts file. if not then add them\n",
    "        with open(host_temp, \"r+\") as file:                      #open file for read and append\n",
    "            content = file.read()                                #read host file\n",
    "            for website in websites:                             #loop through websites list\n",
    "                if website not in content:                       #if the current website is not present in host file\n",
    "                    file.write(redirect + \" \" + website + \"\\n\")  #enter the redirect IP and website\n",
    "                    \n",
    "    else:\n",
    "        \n",
    "        with open(host_temp, \"r+\") as file:\n",
    "            content = file.readlines()                           #read the file line by line\n",
    "            file.seek(0)                                         #After reading the file cursor goes at the end of the file and seek() brings at the start of the file\n",
    "            for line in content:                                  \n",
    "                if not any(website in line for website in websites): #checks if the website is in the current line if not\n",
    "                    file.write(line)                                 #then it writes the current line and cursor moves forward\n",
    "            file.truncate()                                          #cursor moves at the point where the lines below it contains the list of \n",
    "                                                                     #websites to block. truncate() method removes all the contains from the cursor position\n",
    "                                                                     #that means websites to be blocked are removed\n",
    "    time.sleep(5)"
   ]
  },
  {
   "cell_type": "markdown",
   "metadata": {},
   "source": [
    "<b>Running as service in background on Windows:</b><br>\n",
    "   Change extension from .py to .pyw. Whis will execute python script using default python.exe.<br>\n",
    "   To keep the scipt running in background, use Task Schedular. Create new task. Select the configuration for windows version. Check on run with highest privelages. In Triggers tab, create new and select at startup. In action tab Select Start a program and choose the script using browse. In conditions tab uncheck Start the task ony if the computer is on AC power.\n",
    "<br>\n",
    "<br> Running script in backgroud on Mac and Linux using CRON</b>:<br>\n",
    "    <code>sudo crontab -e</code><br>\n",
    "    add <code>@reboot python3 location/WebsiteBlocker.py</code> at the end of file. Replace location with your absolution location of the file. Reboot the system to take effect."
   ]
  },
  {
   "cell_type": "code",
   "execution_count": null,
   "metadata": {},
   "outputs": [],
   "source": []
  }
 ],
 "metadata": {
  "kernelspec": {
   "display_name": "Python 3",
   "language": "python",
   "name": "python3"
  },
  "language_info": {
   "codemirror_mode": {
    "name": "ipython",
    "version": 3
   },
   "file_extension": ".py",
   "mimetype": "text/x-python",
   "name": "python",
   "nbconvert_exporter": "python",
   "pygments_lexer": "ipython3",
   "version": "3.7.4"
  }
 },
 "nbformat": 4,
 "nbformat_minor": 4
}
