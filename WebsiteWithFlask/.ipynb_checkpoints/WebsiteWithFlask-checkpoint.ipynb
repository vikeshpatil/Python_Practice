{
 "cells": [
  {
   "cell_type": "code",
   "execution_count": 1,
   "metadata": {},
   "outputs": [],
   "source": [
    "from flask import Flask, render_template        # class/object 'Flask' is imported from module 'flask' "
   ]
  },
  {
   "cell_type": "code",
   "execution_count": 2,
   "metadata": {},
   "outputs": [],
   "source": [
    "app = Flask(__name__)           #instantiating flask class. __name__ gets the value as the name of the python script"
   ]
  },
  {
   "cell_type": "code",
   "execution_count": 22,
   "metadata": {},
   "outputs": [],
   "source": [
    "@app.route('/')                 #gives the home url\n",
    "def home():                     #whatever the output this function will give will be assigned to above url\n",
    "    return \"Website content goes here\""
   ]
  },
  {
   "cell_type": "code",
   "execution_count": 23,
   "metadata": {},
   "outputs": [],
   "source": [
    "@app.route('/about/')          #address of about page\n",
    "def about():                   \n",
    "    return \"About page\""
   ]
  },
  {
   "cell_type": "code",
   "execution_count": 6,
   "metadata": {},
   "outputs": [
    {
     "name": "stdout",
     "output_type": "stream",
     "text": [
      " * Serving Flask app \"__main__\" (lazy loading)\n",
      " * Environment: production\n",
      "   WARNING: This is a development server. Do not use it in a production deployment.\n",
      "   Use a production WSGI server instead.\n",
      " * Debug mode: on\n"
     ]
    },
    {
     "name": "stderr",
     "output_type": "stream",
     "text": [
      "127.0.0.1 - - [01/Mar/2020 00:45:11] \"GET / HTTP/1.1\" 200 -\n",
      "127.0.0.1 - - [01/Mar/2020 00:45:29] \"GET / HTTP/1.1\" 200 -\n",
      "127.0.0.1 - - [01/Mar/2020 00:45:29] \"GET /favicon.ico HTTP/1.1\" 404 -\n",
      "127.0.0.1 - - [01/Mar/2020 00:55:51] \"GET / HTTP/1.1\" 200 -\n",
      "127.0.0.1 - - [01/Mar/2020 00:55:52] \"GET / HTTP/1.1\" 200 -\n",
      "127.0.0.1 - - [01/Mar/2020 00:55:56] \"GET / HTTP/1.1\" 200 -\n"
     ]
    }
   ],
   "source": [
    "if __name__==\"__main__\":\n",
    "    app.run(debug=True, use_reloader=False)   "
   ]
  },
  {
   "cell_type": "code",
   "execution_count": 3,
   "metadata": {},
   "outputs": [],
   "source": [
    "#passing html templates to web apps\n",
    "@app.route('/')                 #gives the home url\n",
    "def home():                     #whatever the output this function will give will be assigned to above url\n",
    "    return render_template(\"home.html\")   #html page must be inside \"templates\" folder.\n",
    "\n",
    "@app.route('/about/')\n",
    "def about():\n",
    "    return render_template(\"about.html\")"
   ]
  },
  {
   "cell_type": "code",
   "execution_count": 4,
   "metadata": {},
   "outputs": [
    {
     "name": "stdout",
     "output_type": "stream",
     "text": [
      " * Serving Flask app \"__main__\" (lazy loading)\n",
      " * Environment: production\n",
      "   WARNING: This is a development server. Do not use it in a production deployment.\n",
      "   Use a production WSGI server instead.\n",
      " * Debug mode: on\n"
     ]
    },
    {
     "name": "stderr",
     "output_type": "stream",
     "text": [
      " * Running on http://127.0.0.1:5000/ (Press CTRL+C to quit)\n",
      "127.0.0.1 - - [01/Mar/2020 19:11:04] \"GET / HTTP/1.1\" 200 -\n",
      "127.0.0.1 - - [01/Mar/2020 19:11:04] \"GET /static/css/style.css HTTP/1.1\" 200 -\n",
      "127.0.0.1 - - [01/Mar/2020 19:11:04] \"GET /favicon.ico HTTP/1.1\" 404 -\n",
      "127.0.0.1 - - [01/Mar/2020 19:11:32] \"GET / HTTP/1.1\" 200 -\n",
      "127.0.0.1 - - [01/Mar/2020 19:11:32] \"GET /static/css/style.css HTTP/1.1\" 200 -\n",
      "127.0.0.1 - - [01/Mar/2020 19:11:52] \"GET / HTTP/1.1\" 200 -\n",
      "127.0.0.1 - - [01/Mar/2020 19:11:52] \"GET /static/css/style.css HTTP/1.1\" 200 -\n",
      "127.0.0.1 - - [01/Mar/2020 19:12:04] \"GET /about/ HTTP/1.1\" 200 -\n",
      "127.0.0.1 - - [01/Mar/2020 19:12:06] \"GET / HTTP/1.1\" 200 -\n",
      "127.0.0.1 - - [01/Mar/2020 19:35:02] \"GET / HTTP/1.1\" 200 -\n",
      "127.0.0.1 - - [01/Mar/2020 19:35:02] \"GET /static/css/style.css HTTP/1.1\" 304 -\n"
     ]
    }
   ],
   "source": [
    "if __name__==\"__main__\":\n",
    "    app.run(debug=True, use_reloader=False)"
   ]
  },
  {
   "cell_type": "raw",
   "metadata": {},
   "source": [
    "layout.html\n",
    "\n",
    "<!DOCTYPE html>\n",
    "<html>\n",
    "    <body>\n",
    "            <div class=\"container\">\n",
    "                        <a href=\"{{ url_for('home')}}\">Home</a>  <!-- link to home function-->\n",
    "            </div>\n",
    "        <div class=\"container\">\n",
    "            {%block content%}  <!--content is the name of the page to be included -->\n",
    "            {%endblock%}\n",
    "        </div>\n",
    "    </body>\n",
    "</html>"
   ]
  },
  {
   "cell_type": "raw",
   "metadata": {},
   "source": [
    "home.html\n",
    "\n",
    "        {%extends \"layout.html\"%}  <!-- Inherits layour.html page -->\n",
    "        {%block content%}   <!-- content is the name of this block. Whatever is inside the block and endblock is reffered by \"content\"-->\n",
    "<div class=\"home\">\n",
    "        <h1>Home Page</h1>\n",
    "        <p>This is the testing page</p>\n",
    "</div>\n",
    "{%endblock%}"
   ]
  },
  {
   "cell_type": "raw",
   "metadata": {},
   "source": [
    "Applying CSS\n",
    "\n",
    "    the css file must be inside of static folder. e.g. static/css/style.css \n",
    "    include following line in head tag to include stylesheet.\n",
    "    <link rel=\"stylesheet\" href=\"{{url_for('static', filename='css/style.css')}}\">"
   ]
  },
  {
   "cell_type": "markdown",
   "metadata": {},
   "source": [
    "### Deploying to the web\n",
    "Before deploying to the web we should have the virtual environment of python which is isolated from the main python install. \n",
    "In order to create a virtual environment, we need \"virtualenv\" library install\n",
    "\n",
    "   `pip install virtualenv`\n",
    "    \n",
    "#### Create virtual environment\n",
    "Navigate to directory which contains the directory of flask app and type\n",
    "\n",
    "   `python -m venv virtual`\n",
    "    where virtual is the name of the virtual enviroment library.\n",
    "         It will create a folder named \"virtual\" which contains the minimum files to run the python. We need to install the flask in our new enviroment. Install the flask using \n",
    "    `virtual/Scripts/pip install flask`\n",
    "         Now we can run our flask app using \n",
    "     `virtual/Scripts/python3 Website/index.py`\n",
    "     \n",
    "#### Steps to deploy flask app on web\n",
    "\n",
    "1. Create an account on [Heroku](https://www.heroku.com)\n",
    "2. Download heroku toolbelts for your operating system [toolbelt](https://toolbelt.heruko.com)\n",
    "3. Navigate to the directory where flask app is located. and type `heroku login` to login to account. \n",
    "4. `heroku create APPNAME` this will create heroku app named as \"APPNAME\". This name will be the domain of the app and must be unique. `heroku apps` will list the existing apps. Now your website url will be APPNAME.herokuapp.com\n",
    "5. We need three files in the website directory which are required by Heroku. \n",
    "    1. <i>requirements.txt</i> This file contains the packages/libraries on which our app is dependent. Navigate to website folder. To list the packages installed we use `../virtual/Scripts/pip freeze`. We need <b><i>gunicorn</i></b> to be installed. This library is the http server. heroku needs this library to run our application. Now we can store installed packages in requirements.txt with `../virtual/Scripts/pip freeze > requirements.txt` \n",
    "    2. <i>Procfile</i> This file must not have any extension. This file tells heroku what server to use to run our application. This file contains folling content\n",
    "    `web: gunicorn index:app` Where 'index' is the main python script and 'app' is the name of the flask instance.  \n",
    "    3. <i>runtime.txt</i> This file contains the python version on which our app should run. by default it will run 2.7. We can specify python version as `python-3.5.1`. Check on website for latest version of the python supported.\n",
    "6. Initialize our website folder as git repository.<br>\n",
    "    ```git init \n",
    "    git add .\n",
    "    git commit -m \"first commit\"```\n",
    "7. Upload to heroku `heroku git:remote --app APPNAME` <br>\n",
    "push the changes to heroku `git push heroku master` <br>If it gives an error then we have to configure git using `git config --global user.email \"example@email.com\"` and then push the changes\n",
    "\n",
    "to get the info about the current app `heroku info`\n"
   ]
  },
  {
   "cell_type": "markdown",
   "metadata": {},
   "source": [
    "### Maintaining site\n",
    "1. Make the changes to the content\n",
    "2. Navigate to the site directory. login to heruko with `heruko login`. Check if you are in right app with `heruko info`. If it gives any error then use `heroku git:remote --app APPNAME`\n",
    "3. `git add .` after making required changes.<br>\n",
    "   `git commit -m \"made changes\"`<br>\n",
    "   `git push heruko master`\n"
   ]
  },
  {
   "cell_type": "code",
   "execution_count": null,
   "metadata": {},
   "outputs": [],
   "source": [
    "#complete code\n",
    "from flask import Flask, render_template   \n",
    "\n",
    "app = Flask(__name__)   \n",
    "\n",
    "@app.route('/')                 \n",
    "def home():                     \n",
    "    return render_template(\"home.html\")\n",
    "\n",
    "@app.route('/about/')\n",
    "def about():\n",
    "    return render_template(\"about.html\")\n",
    "\n",
    "if __name__==\"__main__\":\n",
    "    app.run(debug=True, use_reloader=False)"
   ]
  }
 ],
 "metadata": {
  "kernelspec": {
   "display_name": "Python 3",
   "language": "python",
   "name": "python3"
  },
  "language_info": {
   "codemirror_mode": {
    "name": "ipython",
    "version": 3
   },
   "file_extension": ".py",
   "mimetype": "text/x-python",
   "name": "python",
   "nbconvert_exporter": "python",
   "pygments_lexer": "ipython3",
   "version": "3.7.4"
  }
 },
 "nbformat": 4,
 "nbformat_minor": 4
}
